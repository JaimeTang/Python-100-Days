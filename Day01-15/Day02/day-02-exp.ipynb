{
 "cells": [
  {
   "cell_type": "markdown",
   "metadata": {},
   "source": [
    "#### 1：华氏温度转摄氏温度。"
   ]
  },
  {
   "cell_type": "code",
   "execution_count": 5,
   "metadata": {},
   "outputs": [
    {
     "name": "stdout",
     "output_type": "stream",
     "text": [
      "输入华氏温度：212\n",
      "摄氏温度：100.0\n"
     ]
    }
   ],
   "source": [
    "F = float(input(\"输入华氏温度：\"))\n",
    "C = float(5*(F-32)/9)\n",
    "print(\"摄氏温度：{:.1f}\".format(C))"
   ]
  },
  {
   "cell_type": "markdown",
   "metadata": {},
   "source": [
    "#### 2：输入圆的半径计算计算周长和面积。"
   ]
  },
  {
   "cell_type": "code",
   "execution_count": 7,
   "metadata": {},
   "outputs": [
    {
     "name": "stdout",
     "output_type": "stream",
     "text": [
      "输入圆的半径：3\n",
      "圆的周长：18.8\n",
      "圆的面积：28.3\n"
     ]
    }
   ],
   "source": [
    "import math\n",
    "\n",
    "r = float(input(\"输入圆的半径：\"))\n",
    "p = 2 * math.pi * r\n",
    "print(\"圆的周长：{:.1f}\".format(p))\n",
    "\n",
    "area = math.pi * (r**2)\n",
    "print(\"圆的面积：{:.1f}\".format(area))"
   ]
  },
  {
   "cell_type": "markdown",
   "metadata": {},
   "source": [
    "#### 3：输入年份判断是不是闰年。"
   ]
  },
  {
   "cell_type": "code",
   "execution_count": 9,
   "metadata": {},
   "outputs": [
    {
     "name": "stdout",
     "output_type": "stream",
     "text": [
      "输入年份：2004\n",
      "闰年\n"
     ]
    }
   ],
   "source": [
    "year = float(input(\"输入年份：\"))\n",
    "\n",
    "if year%4 == 0 and  year%100 != 0:\n",
    "    print(\"闰年\")\n",
    "elif year%400 == 0:\n",
    "    print(\"闰年\")\n",
    "else:\n",
    "    print(\"不是闰年\")"
   ]
  },
  {
   "cell_type": "code",
   "execution_count": null,
   "metadata": {},
   "outputs": [],
   "source": []
  }
 ],
 "metadata": {
  "kernelspec": {
   "display_name": "Python 3",
   "language": "python",
   "name": "python3"
  },
  "language_info": {
   "codemirror_mode": {
    "name": "ipython",
    "version": 3
   },
   "file_extension": ".py",
   "mimetype": "text/x-python",
   "name": "python",
   "nbconvert_exporter": "python",
   "pygments_lexer": "ipython3",
   "version": "3.7.1"
  }
 },
 "nbformat": 4,
 "nbformat_minor": 2
}
